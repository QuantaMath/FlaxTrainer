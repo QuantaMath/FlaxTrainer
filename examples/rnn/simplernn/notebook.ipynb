{
 "cells": [
  {
   "cell_type": "code",
   "execution_count": 1,
   "metadata": {},
   "outputs": [],
   "source": [
    "import flax\n",
    "import flax.linen as nn\n",
    "\n",
    "import optax \n",
    "\n",
    "import jax\n",
    "import jax.numpy as jnp\n",
    "\n",
    "from model import SimpleRNN\n",
    "\n",
    "from FlaxTrainer.trainer import TrainerModule\n",
    "from FlaxTrainer.trainstates import TrainState\n",
    "\n",
    "import transformers\n",
    "from datasets import load_dataset_builder, load_dataset, get_dataset_split_names\n",
    "import re\n"
   ]
  },
  {
   "cell_type": "code",
   "execution_count": null,
   "metadata": {},
   "outputs": [
    {
     "data": {
      "text/plain": [
       "['train', 'test', 'unsupervised']"
      ]
     },
     "execution_count": 2,
     "metadata": {},
     "output_type": "execute_result"
    }
   ],
   "source": [
    "get_dataset_split_names('imdb')"
   ]
  },
  {
   "cell_type": "code",
   "execution_count": 3,
   "metadata": {},
   "outputs": [
    {
     "name": "stderr",
     "output_type": "stream",
     "text": [
      "WARNING:datasets.builder:Reusing dataset imdb (/home/gholamhossin/local/labs/.hugging_face/imdb/plain_text/1.0.0/2fdd8b9bcadd6e7055e742a706876ba43f19faee861df134affd7a3f60fc38a1)\n",
      "WARNING:datasets.builder:Reusing dataset imdb (/home/gholamhossin/local/labs/.hugging_face/imdb/plain_text/1.0.0/2fdd8b9bcadd6e7055e742a706876ba43f19faee861df134affd7a3f60fc38a1)\n"
     ]
    }
   ],
   "source": [
    "from typing import List\n",
    "\n",
    "\n",
    "train_ds = load_dataset('imdb', split='train')\n",
    "test_ds = load_dataset('imdb', split='test')\n",
    "\n",
    "full_text = \" \".join(train_ds['text'])\n",
    "\n",
    "# full_text = re.sub(\"^[A-Za-z0-9_-]*$\", '', full_text)\n",
    "# full_text = full_text.replace('<br',\"\").replace('/>',\"\")\n",
    "# vocabs = set(full_text.split(' '))\n",
    "# vocabs = (list(vocabs))\n",
    "\n",
    "# def tokenizing(vocab: List[str]):\n",
    "#     id_to_text = {i:v for i, v in enumerate(vocab)}\n",
    "#     text_to_id = {v:i for i, v in enumerate(vocab)}\n",
    "\n",
    "#     return id_to_text, text_to_id\n",
    "\n",
    "# id_to_text, text_to_id = tokenizing(vocabs)"
   ]
  },
  {
   "cell_type": "code",
   "execution_count": 4,
   "metadata": {},
   "outputs": [],
   "source": [
    "import nltk\n",
    "\n",
    "seperator = lambda x: nltk.regexp_tokenize(x, \"\\w+|\\\\?\\!\")\n",
    "\n",
    "vocabs = list(set(seperator(full_text)))\n",
    "\n",
    "def tokenizing(vocab: List[str]):\n",
    "    id_to_text = {i:v for i, v in enumerate(vocab)}\n",
    "    text_to_id = {v:i for i, v in enumerate(vocab)}\n",
    "\n",
    "    return id_to_text, text_to_id\n",
    "\n",
    "id_to_text, text_to_id = tokenizing(vocabs)"
   ]
  },
  {
   "cell_type": "code",
   "execution_count": 5,
   "metadata": {},
   "outputs": [
    {
     "data": {
      "text/plain": [
       "93930"
      ]
     },
     "execution_count": 5,
     "metadata": {},
     "output_type": "execute_result"
    }
   ],
   "source": [
    "len(id_to_text)"
   ]
  },
  {
   "cell_type": "code",
   "execution_count": 6,
   "metadata": {},
   "outputs": [],
   "source": [
    "def scentence_tokenized(sent):\n",
    "    word_seperation = seperator(sent)\n",
    "    return [text_to_id[w] for w in word_seperation]"
   ]
  },
  {
   "cell_type": "code",
   "execution_count": 7,
   "metadata": {},
   "outputs": [],
   "source": [
    "from typing import Any\n",
    "\n",
    "\n",
    "class RnnClassifier(nn.Module):\n",
    "    rng: Any\n",
    "    embed_size: int\n",
    "    embed_dim: int\n",
    "    hidden_size: int\n",
    "\n",
    "    @nn.compact\n",
    "    def __call__(self, h, x, **kwargs):\n",
    "        x = nn.Embed(self.embed_size, self.embed_dim)(x)\n",
    "        o, h = SimpleRNN(20, 2)(x, h)\n",
    "\n",
    "        return o, h\n",
    "    @staticmethod\n",
    "    def initialize_carry(\n",
    "        rng, \n",
    "        batch_dims, \n",
    "        size,\n",
    "        init_fn=nn.initializers.zeros\n",
    "    ):\n",
    "        return SimpleRNN.initialize_carry(rng, batch_dims, size, init_fn)"
   ]
  },
  {
   "cell_type": "code",
   "execution_count": 8,
   "metadata": {},
   "outputs": [],
   "source": [
    "rnnC = RnnClassifier(\n",
    "    jax.random.PRNGKey(0),\n",
    "    embed_size=len(text_to_id),\n",
    "    embed_dim=20,\n",
    "    hidden_size=10\n",
    ")\n",
    "\n"
   ]
  },
  {
   "cell_type": "code",
   "execution_count": 9,
   "metadata": {},
   "outputs": [
    {
     "data": {
      "text/plain": [
       "DeviceArray([[0., 0., 0., 0., 0., 0., 0., 0., 0., 0., 0., 0., 0., 0., 0.,\n",
       "              0., 0., 0., 0., 0.]], dtype=float32)"
      ]
     },
     "execution_count": 9,
     "metadata": {},
     "output_type": "execute_result"
    }
   ],
   "source": [
    "h = RnnClassifier.initialize_carry(\n",
    "    jax.random.PRNGKey(0),\n",
    "    (1, ),\n",
    "    20\n",
    ")\n",
    "x = jax.random.randint(\n",
    "    jax.random.PRNGKey(0),\n",
    "    (1,),\n",
    "    minval=1, maxval=20\n",
    ")\n",
    "h"
   ]
  },
  {
   "cell_type": "code",
   "execution_count": 10,
   "metadata": {},
   "outputs": [],
   "source": [
    "variables = rnnC.init(jax.random.PRNGKey(0), h, x)"
   ]
  },
  {
   "cell_type": "code",
   "execution_count": 11,
   "metadata": {},
   "outputs": [
    {
     "data": {
      "text/plain": [
       "FrozenDict({\n",
       "    params: {\n",
       "        Embed_0: {\n",
       "            embedding: (93930, 20),\n",
       "        },\n",
       "        SimpleRNN_0: {\n",
       "            hidden_state: {\n",
       "                bias: (20,),\n",
       "                kernel: (40, 20),\n",
       "            },\n",
       "            output: {\n",
       "                bias: (2,),\n",
       "                kernel: (40, 2),\n",
       "            },\n",
       "        },\n",
       "    },\n",
       "})"
      ]
     },
     "execution_count": 11,
     "metadata": {},
     "output_type": "execute_result"
    }
   ],
   "source": [
    "jax.tree_map(lambda x: x.shape , variables)"
   ]
  },
  {
   "cell_type": "code",
   "execution_count": 12,
   "metadata": {},
   "outputs": [
    {
     "data": {
      "text/plain": [
       "(DeviceArray([[-0.02662284,  0.39234704]], dtype=float32),\n",
       " DeviceArray([[0.        , 0.        , 0.36096382, 0.10458659, 0.        ,\n",
       "               0.        , 0.        , 0.        , 0.        , 0.        ,\n",
       "               0.28245187, 0.18464863, 0.02286166, 0.04945395, 0.        ,\n",
       "               0.00896228, 0.21438086, 0.        , 0.04968444, 0.        ]],            dtype=float32))"
      ]
     },
     "execution_count": 12,
     "metadata": {},
     "output_type": "execute_result"
    }
   ],
   "source": [
    "rnnC.apply(variables=variables, x=x, h=h)"
   ]
  },
  {
   "cell_type": "code",
   "execution_count": 13,
   "metadata": {},
   "outputs": [
    {
     "data": {
      "text/plain": [
       "(297,)"
      ]
     },
     "execution_count": 13,
     "metadata": {},
     "output_type": "execute_result"
    }
   ],
   "source": [
    "example = jnp.array(scentence_tokenized(train_ds['text'][0]))\n",
    "example.shape"
   ]
  },
  {
   "cell_type": "code",
   "execution_count": 14,
   "metadata": {},
   "outputs": [
    {
     "data": {
      "text/plain": [
       "DeviceArray([[0., 0., 0., 0., 0., 0., 0., 0., 0., 0., 0., 0., 0., 0., 0.,\n",
       "              0., 0., 0., 0., 0.]], dtype=float32)"
      ]
     },
     "execution_count": 14,
     "metadata": {},
     "output_type": "execute_result"
    }
   ],
   "source": [
    "h"
   ]
  },
  {
   "cell_type": "code",
   "execution_count": 15,
   "metadata": {},
   "outputs": [
    {
     "name": "stdout",
     "output_type": "stream",
     "text": [
      "[[ 0.101531   -0.03670267]] [[0.         0.33540764 0.27758348 0.         0.27738208 0.\n",
      "  0.         0.03469883 0.59443516 0.11394904 0.         0.26410994\n",
      "  0.2550305  0.         0.         0.21341687 0.10182323 0.\n",
      "  0.14639407 0.        ]]\n",
      "13.508159160614014\n"
     ]
    }
   ],
   "source": [
    "from time import time\n",
    "\n",
    "\n",
    "t = time()\n",
    "for x in example.reshape(-1, 1):\n",
    "     o, h = rnnC.apply(variables, h, x)\n",
    "print(o, h)\n",
    "\n",
    "print(time() - t)"
   ]
  },
  {
   "cell_type": "code",
   "execution_count": 16,
   "metadata": {},
   "outputs": [
    {
     "ename": "SyntaxError",
     "evalue": "invalid syntax (2885781288.py, line 34)",
     "output_type": "error",
     "traceback": [
      "\u001b[0;36m  Input \u001b[0;32mIn [16]\u001b[0;36m\u001b[0m\n\u001b[0;31m    for word in\u001b[0m\n\u001b[0m                ^\u001b[0m\n\u001b[0;31mSyntaxError\u001b[0m\u001b[0;31m:\u001b[0m invalid syntax\n"
     ]
    }
   ],
   "source": [
    "class RnnTrainState(TrainState):\n",
    "    hidden_fn: Any=None\n",
    "\n",
    "\n",
    "class RnnTrainer(TrainerModule):\n",
    "    def __init__(self, **kwargs):\n",
    "        super().__init__(**kwargs)\n",
    "\n",
    "    def init_model(\n",
    "        self, model: nn.Module, \n",
    "        exmp_input: Any, \n",
    "        tabulated: bool = True):\n",
    "        state =  super().init_model(model, exmp_input, tabulated)\n",
    "        st_dict = state.__dict__\n",
    "        \n",
    "        state = RnnTrainState(\n",
    "            **{\n",
    "                **st_dict, \"hidden_fn\":model.init_state()\n",
    "            }\n",
    "        )\n",
    "        return state\n",
    "    \n",
    "        \n",
    "    def create_functions(self):\n",
    "        def cross_entropy_loss(params, apply_fn, batch):\n",
    "            x, y = batch\n",
    "            y = jax.nn.one_hot(y, num_classes=10)\n",
    "            logit = apply_fn({'params':params}, x)\n",
    "            loss = optax.softmax_cross_entropy(logits=logit , labels=y).mean()\n",
    "            return loss\n",
    "    \n",
    "        def train_step(state, batch):\n",
    "            loss_fn = lambda params: cross_entropy_loss(params, state.apply_fn, batch)\n",
    "            for word in \n",
    "            loss, grads = jax.value_and_grad(loss_fn)(state.params)\n",
    "            state = state.apply_gradients(grads=grads)\n",
    "            metrics = {'loss': loss}\n",
    "            return state, metrics\n",
    "        \n",
    "        def eval_step(state, batch):\n",
    "            loss = cross_entropy_loss(state.params, state.apply_fn, batch)\n",
    "            return {'loss': loss}\n",
    "\n",
    "        return train_step, eval_step\n"
   ]
  },
  {
   "cell_type": "code",
   "execution_count": 16,
   "metadata": {},
   "outputs": [],
   "source": [
    "\n",
    "def fn(i, ho):\n",
    "    x = example.reshape(-1, 1)[i]\n",
    "    h = ho[0]\n",
    "    o, h = rnnC.apply(variables=variables, x=x, h=h)\n",
    "    return [h, o]\n",
    "    "
   ]
  },
  {
   "cell_type": "code",
   "execution_count": 17,
   "metadata": {},
   "outputs": [
    {
     "data": {
      "text/plain": [
       "[DeviceArray([[0.00241531, 0.51561534, 0.3784473 , 0.        , 0.24155109,\n",
       "               0.        , 0.02114906, 0.0136361 , 0.21647874, 0.00569096,\n",
       "               0.        , 0.0266905 , 0.1747001 , 0.08343177, 0.19916058,\n",
       "               0.20462283, 0.        , 0.16992225, 0.        , 0.        ]],            dtype=float32),\n",
       " DeviceArray([[-0.13409576,  0.09588944]], dtype=float32)]"
      ]
     },
     "execution_count": 17,
     "metadata": {},
     "output_type": "execute_result"
    }
   ],
   "source": [
    "h = RnnClassifier.initialize_carry(\n",
    "    jax.random.PRNGKey(0),\n",
    "    (1, ),\n",
    "    20\n",
    ")\n",
    "\n",
    "ho = [h, jnp.zeros((1,2))]\n",
    "fn(1, ho)"
   ]
  },
  {
   "cell_type": "code",
   "execution_count": 18,
   "metadata": {},
   "outputs": [
    {
     "data": {
      "text/plain": [
       "[DeviceArray([[0.        , 0.33540764, 0.27758348, 0.        , 0.27738208,\n",
       "               0.        , 0.        , 0.03469883, 0.59443516, 0.11394904,\n",
       "               0.        , 0.26410994, 0.2550305 , 0.        , 0.        ,\n",
       "               0.21341687, 0.10182323, 0.        , 0.14639407, 0.        ]],            dtype=float32),\n",
       " DeviceArray([[ 0.101531  , -0.03670267]], dtype=float32)]"
      ]
     },
     "execution_count": 18,
     "metadata": {},
     "output_type": "execute_result"
    }
   ],
   "source": [
    "jax.lax.fori_loop(0, len(example), fn,ho)"
   ]
  },
  {
   "cell_type": "code",
   "execution_count": 19,
   "metadata": {},
   "outputs": [],
   "source": [
    "l = jax.lax.map(lambda x: jnp.concatenate([h, x.reshape(1,1)], axis=-1), example)"
   ]
  },
  {
   "cell_type": "code",
   "execution_count": 20,
   "metadata": {},
   "outputs": [],
   "source": [
    "def fn(h, x):\n",
    "    h = h[...,:-1]\n",
    "    x = x[0,...,-1].astype(jnp.int32).reshape(-1,)\n",
    "    o, h = rnnC.apply(variables=variables, x=x, h=h)\n",
    "    h_r = jnp.concatenate([h, jnp.zeros((1,1))], axis=-1)\n",
    "    return h_r, (h_r, o)"
   ]
  },
  {
   "cell_type": "code",
   "execution_count": 21,
   "metadata": {},
   "outputs": [
    {
     "data": {
      "text/plain": [
       "(DeviceArray([[0.00241531, 0.51561534, 0.3784473 , 0.        , 0.24155109,\n",
       "               0.        , 0.02114906, 0.0136361 , 0.21647874, 0.00569096,\n",
       "               0.        , 0.0266905 , 0.1747001 , 0.08343177, 0.19916058,\n",
       "               0.20462283, 0.        , 0.16992225, 0.        , 0.        ,\n",
       "               0.        ]], dtype=float32),\n",
       " (DeviceArray([[0.00241531, 0.51561534, 0.3784473 , 0.        , 0.24155109,\n",
       "                0.        , 0.02114906, 0.0136361 , 0.21647874, 0.00569096,\n",
       "                0.        , 0.0266905 , 0.1747001 , 0.08343177, 0.19916058,\n",
       "                0.20462283, 0.        , 0.16992225, 0.        , 0.        ,\n",
       "                0.        ]], dtype=float32),\n",
       "  DeviceArray([[-0.13409576,  0.09588944]], dtype=float32)))"
      ]
     },
     "execution_count": 21,
     "metadata": {},
     "output_type": "execute_result"
    }
   ],
   "source": [
    "fn(l[0], l[1])"
   ]
  },
  {
   "cell_type": "code",
   "execution_count": 23,
   "metadata": {},
   "outputs": [],
   "source": [
    "_, out = jax.lax.scan(fn, jnp.concatenate([h, jnp.zeros((1,1))], axis=1), l)\n",
    "    "
   ]
  },
  {
   "cell_type": "code",
   "execution_count": 307,
   "metadata": {},
   "outputs": [
    {
     "data": {
      "text/plain": [
       "297"
      ]
     },
     "execution_count": 307,
     "metadata": {},
     "output_type": "execute_result"
    }
   ],
   "source": [
    "len(out[1])"
   ]
  },
  {
   "cell_type": "code",
   "execution_count": 25,
   "metadata": {},
   "outputs": [
    {
     "data": {
      "text/plain": [
       "{'jax_tracer_error_num_traceback_frames': 5,\n",
       " 'jax_pprint_use_color': True,\n",
       " 'jax_host_callback_inline': False,\n",
       " 'jax_host_callback_max_queue_byte_size': 256000000,\n",
       " 'jax_host_callback_outfeed': False,\n",
       " 'jax_host_callback_ad_transforms': False,\n",
       " 'jax2tf_associative_scan_reductions': False,\n",
       " 'jax2tf_default_experimental_native_lowering': False,\n",
       " 'jax_platforms': None,\n",
       " 'jax_enable_checks': False,\n",
       " 'jax_check_tracer_leaks': False,\n",
       " 'jax_debug_nans': False,\n",
       " 'jax_debug_infs': False,\n",
       " 'jax_log_compiles': False,\n",
       " 'jax_parallel_functions_output_gda': False,\n",
       " 'jax_array': False,\n",
       " 'jax_distributed_debug': False,\n",
       " 'jax_enable_custom_prng': False,\n",
       " 'jax_default_prng_impl': 'threefry2x32',\n",
       " 'jax_enable_custom_vjp_by_custom_transpose': False,\n",
       " 'jax_hlo_source_file_canonicalization_regex': None,\n",
       " 'jax_default_dtype_bits': '64',\n",
       " 'jax_numpy_dtype_promotion': 'standard',\n",
       " 'jax_enable_x64': False,\n",
       " 'jax_default_device': None,\n",
       " 'jax_disable_jit': False,\n",
       " 'jax_numpy_rank_promotion': 'allow',\n",
       " 'jax_default_matmul_precision': None,\n",
       " 'jax_traceback_filtering': 'auto',\n",
       " 'jax_bcoo_cusparse_lowering': True,\n",
       " 'jax_dynamic_shapes': False,\n",
       " 'jax_experimental_name_stack': True,\n",
       " 'jax_unique_mhlo_module_names': True,\n",
       " 'jax_remat_opt_barrier': True,\n",
       " 'jax_coordination_service': False,\n",
       " 'jax_experimental_subjaxpr_lowering_cache': False,\n",
       " 'jax_eager_pmap': True,\n",
       " 'jax_transfer_guard_host_to_device': None,\n",
       " 'jax_transfer_guard_device_to_device': None,\n",
       " 'jax_transfer_guard_device_to_host': None,\n",
       " 'jax_transfer_guard': None,\n",
       " 'jax_xla_backend': '',\n",
       " 'jax_backend_target': '',\n",
       " 'jax_platform_name': '',\n",
       " 'jax_disable_most_optimizations': False,\n",
       " 'jax_xla_profile_version': 0,\n",
       " 'jax_cuda_visible_devices': 'all',\n",
       " 'jax_rocm_visible_devices': 'all',\n",
       " 'jax_dump_ir_to': '',\n",
       " 'experimental_cpp_jit': True,\n",
       " 'experimental_cpp_pmap': True,\n",
       " 'experimental_xmap_spmd_lowering': False,\n",
       " 'experimental_xmap_spmd_lowering_manual': False,\n",
       " 'experimental_xmap_ensure_fixed_sharding': False,\n",
       " 'jax_test_dut': '',\n",
       " 'num_generated_cases': 10,\n",
       " 'max_cases_sampling_retries': 100,\n",
       " 'jax_skip_slow_tests': False,\n",
       " 'test_targets': '',\n",
       " 'exclude_test_targets': ''}"
      ]
     },
     "execution_count": 25,
     "metadata": {},
     "output_type": "execute_result"
    }
   ],
   "source": [
    "jax.config.values"
   ]
  },
  {
   "cell_type": "code",
   "execution_count": 69,
   "metadata": {},
   "outputs": [
    {
     "name": "stdout",
     "output_type": "stream",
     "text": [
      "Slusarski\n",
      "['Abandonato', 'Abatangelo', 'Abatantuono', 'Abate', 'Abategiovanni']\n",
      "tensor([[0., 0., 0., 0., 0., 0., 0., 0., 0., 0., 0., 0., 0., 0., 0., 0., 0., 0.,\n",
      "         0., 0., 0., 0., 0., 0., 0., 0., 0., 0., 0., 0., 0., 0., 0., 0., 0., 1.,\n",
      "         0., 0., 0., 0., 0., 0., 0., 0., 0., 0., 0., 0., 0., 0., 0., 0., 0., 0.,\n",
      "         0., 0.]])\n",
      "torch.Size([6, 1, 56])\n",
      "tensor([[-3.0383, -2.9525, -2.8406, -2.7903, -2.7879, -2.8717, -2.9408, -2.9191,\n",
      "         -2.8845, -2.9514, -2.8650, -2.7973, -2.9063, -2.9675, -2.9688, -2.8231,\n",
      "         -2.8585, -2.9047]], grad_fn=<LogSoftmaxBackward0>)\n",
      "('English', 4)\n",
      "category= English / line= Gascoyne\n",
      "category= Spanish / line= Abarca\n",
      "category= Arabic / line= Guirguis\n",
      "category= Korean / line= Yim\n",
      "category= Dutch / line= Vliert\n",
      "category= Portuguese / line= Ferro\n",
      "category= Korean / line= Pak\n",
      "category= Dutch / line= Oorschot\n",
      "category= Russian / line= Lysyh\n",
      "category= Italian / line= Battaglia\n",
      "5000 5% (0m 4s) 2.8548 Thomas / Greek ✗ (French)\n",
      "10000 10% (0m 9s) 2.3397 Betlach / Czech ✓\n",
      "15000 15% (0m 14s) 2.5084 Casales / Greek ✗ (Spanish)\n",
      "20000 20% (0m 19s) 2.6221 Seger / German ✗ (Czech)\n",
      "25000 25% (0m 24s) 2.0044 Tasse / Arabic ✗ (French)\n",
      "30000 30% (0m 29s) 2.1545 Alves / Dutch ✗ (Portuguese)\n",
      "35000 35% (0m 34s) 1.0142 Wei / Chinese ✓\n",
      "40000 40% (0m 39s) 1.7388 Lewington / Scottish ✗ (English)\n",
      "45000 45% (0m 45s) 2.8627 Specht / German ✗ (Dutch)\n",
      "50000 50% (0m 50s) 3.7679 Sierzant / Scottish ✗ (Polish)\n",
      "55000 55% (0m 55s) 2.5068 Cruz / Spanish ✗ (Portuguese)\n",
      "60000 60% (1m 0s) 1.1688 Nisi / Italian ✓\n",
      "65000 65% (1m 5s) 0.3450 Zubizarreta / Spanish ✓\n",
      "70000 70% (1m 10s) 1.8192 Whalen / Dutch ✗ (Irish)\n",
      "75000 75% (1m 16s) 1.7257 Torres / Portuguese ✗ (Spanish)\n",
      "80000 80% (1m 21s) 0.6154 Seo / Korean ✓\n",
      "85000 85% (1m 26s) 3.5950 Araullo / Italian ✗ (Portuguese)\n",
      "90000 90% (1m 31s) 1.6219 Haenraats / Portuguese ✗ (Dutch)\n",
      "95000 95% (1m 35s) 2.4215 Firmin / English ✗ (French)\n",
      "100000 100% (1m 41s) 3.8756 Tracey / English ✗ (Irish)\n"
     ]
    },
    {
     "name": "stderr",
     "output_type": "stream",
     "text": [
      "/tmp/ipykernel_109484/1037457242.py:229: UserWarning: FixedFormatter should only be used together with FixedLocator\n",
      "  ax.set_xticklabels([''] + all_categories, rotation=90)\n",
      "/tmp/ipykernel_109484/1037457242.py:230: UserWarning: FixedFormatter should only be used together with FixedLocator\n",
      "  ax.set_yticklabels([''] + all_categories)\n"
     ]
    },
    {
     "data": {
      "image/png": "[encoded data removed]",
      "text/plain": [
       "<Figure size 640x480 with 1 Axes>"
      ]
     },
     "metadata": {},
     "output_type": "display_data"
    },
    {
     "data": {
      "image/png": "[encoded data removed]",
      "text/plain": [
       "<Figure size 640x480 with 2 Axes>"
      ]
     },
     "metadata": {},
     "output_type": "display_data"
    },
    {
     "name": "stdout",
     "output_type": "stream",
     "text": [
      "\n",
      "> Dovesky\n",
      "(-0.71) Czech\n",
      "(-0.84) Russian\n",
      "(-3.54) English\n",
      "\n",
      "> Jackson\n",
      "(-0.98) English\n",
      "(-1.30) Russian\n",
      "(-1.69) Scottish\n",
      "\n",
      "> Satoshi\n",
      "(-1.07) Arabic\n",
      "(-1.43) Japanese\n",
      "(-2.16) Italian\n"
     ]
    }
   ],
   "source": [
    "from __future__ import unicode_literals, print_function, division\n",
    "from io import open\n",
    "import glob\n",
    "import os \n",
    "\n",
    "import io\n",
    "from  zipfile import ZipFile\n",
    "from urllib.request import urlopen\n",
    "\n",
    "import torch.nn as nn\n",
    "import torch\n",
    "\n",
    "res = urlopen('https://download.pytorch.org/tutorial/data.zip')\n",
    "z = io.BytesIO(res.read())\n",
    "z = ZipFile(z)\n",
    "file_names = z.namelist()[3:]\n",
    "\n",
    "import unicodedata\n",
    "import string \n",
    "all_letters = string.ascii_letters + \".,;'\"\n",
    "n_letters = len(all_letters)\n",
    "\n",
    "def unicodeToAscii(s):\n",
    "    return ''.join(\n",
    "        c for c in unicodedata.normalize('NFD',s)\n",
    "        if unicodedata.category(c) != 'Mn'\n",
    "        and c in all_letters\n",
    "    )\n",
    "\n",
    "print(unicodeToAscii('Ślusàrski'))\n",
    "\n",
    "category_lines = {}\n",
    "all_categories = []\n",
    "\n",
    "# Read a file and split into lines\n",
    "def readLines(filename):\n",
    "    lines = z.open(filename).readlines()\n",
    "    lines = [str(l).replace(\"\\\\n'\",\"\").replace(\"b'\", \"\") for l in lines]\n",
    "    return [unicodeToAscii(line) for line in lines]\n",
    "\n",
    "for filename in file_names:\n",
    "    category = os.path.splitext(os.path.basename(filename))[0]\n",
    "    all_categories.append(category)\n",
    "    lines = readLines(filename)\n",
    "    category_lines[category] = lines\n",
    "\n",
    "n_categories = len(all_categories)\n",
    "\n",
    "n_categories\n",
    "\n",
    "print(category_lines['Italian'][:5])\n",
    "\n",
    "import torch\n",
    "def letterToIndex(letter):\n",
    "    return all_letters.find(letter)\n",
    "\n",
    "def letterToTensor(letter):\n",
    "    tensor = torch.zeros(1, n_letters)\n",
    "    tensor[0][letterToIndex(letter)] = 1\n",
    "    return tensor\n",
    "\n",
    "def lineToTensor(line):\n",
    "    tensor = torch.zeros(len(line), 1, n_letters)\n",
    "    for li, letter in enumerate(line):\n",
    "        tensor[li][0][letterToIndex(letter)] = 1\n",
    "    return tensor\n",
    "\n",
    "print(letterToTensor('J'))\n",
    "print(lineToTensor('Johnes').size())\n",
    "\n",
    "\n",
    "\n",
    "class RNN(nn.Module):\n",
    "    def __init__(self, input_size, hidden_size, output_size):\n",
    "        super(RNN, self).__init__()\n",
    "            \n",
    "        self.hidden_size = hidden_size\n",
    "            \n",
    "        self.i2h = nn.Linear(input_size + hidden_size, hidden_size)\n",
    "        self.i2o = nn.Linear(input_size + hidden_size, output_size)\n",
    "        self.softmax = nn.LogSoftmax(dim=1)\n",
    "            \n",
    "    def forward(self, input, hidden):\n",
    "        combined = torch.cat((input, hidden), 1)\n",
    "        hidden = self.i2h(combined)\n",
    "        output = self.i2o(combined)\n",
    "        output = self.softmax(output)\n",
    "        return output, hidden\n",
    "        \n",
    "    def initHidden(self):\n",
    "        return torch.zeros(1, self.hidden_size)\n",
    "    \n",
    "n_hidden = 128\n",
    "rnn = RNN(n_letters, n_hidden, n_categories)\n",
    "\n",
    "\n",
    "input = letterToTensor('A')\n",
    "hidden = torch.zeros(1, n_hidden)\n",
    "\n",
    "output, next_hidden = rnn(input, hidden)\n",
    "\n",
    "input = lineToTensor('Albert')\n",
    "hidden = torch.zeros(1, n_hidden)\n",
    "\n",
    "output, next_hidden = rnn(input[0], hidden)\n",
    "print(output)\n",
    "\n",
    "def categoryFromOutput(output):\n",
    "    top_n, top_i = output.topk(1)\n",
    "    category_i = top_i[0].item()\n",
    "    return all_categories[category_i], category_i\n",
    "\n",
    "print(categoryFromOutput(output))\n",
    "\n",
    "import random \n",
    "\n",
    "\n",
    "def randomChoice(l):\n",
    "    return l[random.randint(0, len(l) - 1)]\n",
    "\n",
    "def randomTrainingExample():\n",
    "    category = randomChoice(all_categories)\n",
    "    line = randomChoice(category_lines[category])\n",
    "    category_tensor = torch.tensor([all_categories.index(category)], dtype=torch.long)\n",
    "    line_tensor = lineToTensor(line)\n",
    "    return category, line, category_tensor, line_tensor\n",
    "\n",
    "for i in range(10):\n",
    "    category, line, category_tensor, line_tensor = randomTrainingExample()\n",
    "    print('category=', category, '/ line=', line)\n",
    "\n",
    "\n",
    "                                   \n",
    "\n",
    "criterion = nn.NLLLoss()\n",
    "\n",
    "learning_rate = 0.005\n",
    "def train(category_tensor, line_tensor):\n",
    "    hidden = rnn.initHidden()\n",
    "    \n",
    "    rnn.zero_grad()\n",
    "    \n",
    "    for i in range(line_tensor.size()[0]):\n",
    "        output, hidden = rnn(line_tensor[i], hidden)\n",
    "        \n",
    "    loss = criterion(output, category_tensor)\n",
    "    loss.backward()\n",
    "    \n",
    "    for p in rnn.parameters():\n",
    "        p.data.add_(p.grad.data, alpha=-learning_rate)\n",
    "    \n",
    "    return output, loss.item()\n",
    "\n",
    "    \n",
    "    \n",
    "\n",
    "import time\n",
    "import math\n",
    "\n",
    "n_iters = 100000\n",
    "print_every = 5000\n",
    "plot_every = 1000\n",
    "\n",
    "\n",
    "\n",
    "# Keep track of losses for plotting\n",
    "current_loss = 0\n",
    "all_losses = []\n",
    "\n",
    "def timeSince(since):\n",
    "    now = time.time()\n",
    "    s = now - since\n",
    "    m = math.floor(s / 60)\n",
    "    s -= m * 60\n",
    "    return '%dm %ds' % (m, s)\n",
    "\n",
    "start = time.time()\n",
    "\n",
    "for iter in range(1, n_iters + 1):\n",
    "    category, line, category_tensor, line_tensor = randomTrainingExample()\n",
    "    output, loss = train(category_tensor, line_tensor)\n",
    "    current_loss += loss\n",
    "\n",
    "    # Print iter number, loss, name and guess\n",
    "    if iter % print_every == 0:\n",
    "        guess, guess_i = categoryFromOutput(output)\n",
    "        correct = '✓' if guess == category else '✗ (%s)' % category\n",
    "        print('%d %d%% (%s) %.4f %s / %s %s' % (iter, iter / n_iters * 100, timeSince(start), loss, line, guess, correct))\n",
    "\n",
    "    # Add current loss avg to list of losses\n",
    "    if iter % plot_every == 0:\n",
    "        all_losses.append(current_loss / plot_every)\n",
    "        current_loss = 0\n",
    "\n",
    "import matplotlib.pyplot as plt\n",
    "import matplotlib.ticker as ticker\n",
    "\n",
    "plt.figure()\n",
    "\n",
    "plt.plot(all_losses) ;\n",
    "\n",
    "confusion = torch.zeros(n_categories, n_categories)\n",
    "n_confusion = 10_000\n",
    "\n",
    "def evaluate(line_tensor):\n",
    "    hidden = rnn.initHidden()\n",
    "    for i in range(line_tensor.size()[0]):\n",
    "        output, hidden = rnn(line_tensor[i], hidden)\n",
    "    return output\n",
    "\n",
    "for i in range(n_confusion):\n",
    "    category, line, category_tensor, line_tensor = randomTrainingExample()\n",
    "    output = evaluate(line_tensor)\n",
    "    guess, guess_i = categoryFromOutput(output)\n",
    "    category_i = all_categories.index(category)\n",
    "    confusion[category_i][guess_i] += 1\n",
    "\n",
    "    \n",
    "for i in range(n_categories):\n",
    "    confusion[i] = confusion[i] / confusion[i].sum()\n",
    "\n",
    "# Set up plot\n",
    "fig = plt.figure()\n",
    "ax = fig.add_subplot(111)\n",
    "cax = ax.matshow(confusion.numpy())\n",
    "fig.colorbar(cax)\n",
    "\n",
    "# Set up axes\n",
    "ax.set_xticklabels([''] + all_categories, rotation=90)\n",
    "ax.set_yticklabels([''] + all_categories)\n",
    "\n",
    "# Force label at every tick\n",
    "ax.xaxis.set_major_locator(ticker.MultipleLocator(1))\n",
    "ax.yaxis.set_major_locator(ticker.MultipleLocator(1))\n",
    "\n",
    "# sphinx_gallery_thumbnail_number = 2\n",
    "plt.show()\n",
    "\n",
    "def predict(input_line, n_predictions=3):\n",
    "    print('\\n> %s' % input_line)\n",
    "    with torch.no_grad():\n",
    "        output = evaluate(lineToTensor(input_line))\n",
    "\n",
    "        # Get top N categories\n",
    "        topv, topi = output.topk(n_predictions, 1, True)\n",
    "        predictions = []\n",
    "\n",
    "        for i in range(n_predictions):\n",
    "            value = topv[0][i].item()\n",
    "            category_index = topi[0][i].item()\n",
    "            print('(%.2f) %s' % (value, all_categories[category_index]))\n",
    "            predictions.append([value, all_categories[category_index]])\n",
    "\n",
    "predict('Dovesky')\n",
    "predict('Jackson')\n",
    "predict('Satoshi')"
   ]
  },
  {
   "cell_type": "code",
   "execution_count": 71,
   "metadata": {},
   "outputs": [],
   "source": [
    "import flax\n",
    "import flax.linen as nn\n",
    "from jax import random\n",
    "\n",
    "class SimpleScan(nn.Module):\n",
    "  @nn.compact\n",
    "  def __call__(self, c, xs):\n",
    "    LSTM = nn.scan(nn.LSTMCell,\n",
    "                   variable_broadcast=\"params\",\n",
    "                   split_rngs={\"params\": False},\n",
    "                   in_axes=1,\n",
    "                   out_axes=1)\n",
    "    return LSTM()(c, xs)\n",
    "\n",
    "seq_len, batch_size, in_feat, out_feat = 20, 16, 3, 5\n",
    "key_1, key_2, key_3 = random.split(random.PRNGKey(0), 3)\n",
    "\n",
    "xs = random.uniform(key_1, (batch_size, seq_len, in_feat))\n",
    "init_carry = nn.LSTMCell.initialize_carry(key_2, (batch_size,), out_feat)\n",
    "\n",
    "model = SimpleScan()\n",
    "variables = model.init(key_3, init_carry, xs)\n",
    "out_carry, out_val = model.apply(variables, init_carry, xs)\n",
    "\n",
    "assert out_val.shape == (batch_size, seq_len, out_feat)"
   ]
  },
  {
   "cell_type": "code",
   "execution_count": 72,
   "metadata": {},
   "outputs": [
    {
     "data": {
      "text/plain": [
       "DeviceArray([[[-0.1853381 , -0.10100141,  0.080236  ,  0.01992463,\n",
       "               -0.06103022],\n",
       "              [-0.01071439, -0.17999715,  0.03315278, -0.05530818,\n",
       "                0.043177  ],\n",
       "              [-0.04797849, -0.20263912,  0.09698375, -0.0426482 ,\n",
       "                0.01547858],\n",
       "              ...,\n",
       "              [ 0.04662287, -0.19942182,  0.09726959, -0.04846162,\n",
       "                0.09371966],\n",
       "              [-0.13400127, -0.13887858,  0.10648201,  0.065263  ,\n",
       "               -0.01726308],\n",
       "              [-0.20786555, -0.10800423,  0.13088283,  0.08920371,\n",
       "               -0.13810161]],\n",
       "\n",
       "             [[-0.00163105, -0.07661658, -0.03404366, -0.02381711,\n",
       "                0.04745721],\n",
       "              [-0.02372325, -0.06632124, -0.00354327,  0.02185179,\n",
       "                0.03569559],\n",
       "              [-0.11647416, -0.13251291,  0.04258443,  0.0330095 ,\n",
       "                0.00190553],\n",
       "              ...,\n",
       "              [-0.05010752, -0.1953249 ,  0.04155926,  0.01165552,\n",
       "                0.05023681],\n",
       "              [-0.08843493, -0.2464223 ,  0.12572926, -0.05035377,\n",
       "                0.00458584],\n",
       "              [-0.2640316 , -0.27150255,  0.15661912,  0.00267558,\n",
       "               -0.06107362]],\n",
       "\n",
       "             [[-0.04053807, -0.07130904, -0.02534342,  0.00729645,\n",
       "                0.03303835],\n",
       "              [-0.03426321, -0.10009469, -0.01688628,  0.02677048,\n",
       "                0.04349111],\n",
       "              [-0.17229868, -0.19735679,  0.09675229, -0.0006819 ,\n",
       "               -0.02500773],\n",
       "              ...,\n",
       "              [ 0.08480815, -0.16814901,  0.04691228, -0.09001391,\n",
       "                0.09235054],\n",
       "              [-0.02499075, -0.10944351,  0.07328276, -0.00290139,\n",
       "                0.05307389],\n",
       "              [ 0.09548786, -0.09416918, -0.03111657, -0.05795668,\n",
       "                0.13603531]],\n",
       "\n",
       "             ...,\n",
       "\n",
       "             [[ 0.07377258, -0.04870401, -0.0436904 , -0.06410342,\n",
       "                0.06602024],\n",
       "              [ 0.11807766, -0.05674354, -0.05911928, -0.08291133,\n",
       "                0.10670432],\n",
       "              [-0.05443   , -0.06879121,  0.05016223,  0.0016648 ,\n",
       "                0.01071185],\n",
       "              ...,\n",
       "              [-0.22027266, -0.29973644,  0.1454966 , -0.00153302,\n",
       "               -0.02828921],\n",
       "              [-0.08401109, -0.22132131,  0.22839986, -0.0156139 ,\n",
       "               -0.02851719],\n",
       "              [-0.21350625, -0.215832  ,  0.13770588,  0.04187279,\n",
       "               -0.04269299]],\n",
       "\n",
       "             [[-0.01976042, -0.03271171, -0.00521291,  0.00425448,\n",
       "                0.01075154],\n",
       "              [-0.07346272, -0.08715314,  0.05637481, -0.02182838,\n",
       "               -0.02068787],\n",
       "              [-0.2193656 , -0.12989363,  0.11379747,  0.02392566,\n",
       "               -0.09234425],\n",
       "              ...,\n",
       "              [-0.18033576, -0.2707675 ,  0.11186451,  0.03421858,\n",
       "               -0.00674705],\n",
       "              [-0.2285169 , -0.26417038,  0.156844  ,  0.07388   ,\n",
       "               -0.07884441],\n",
       "              [-0.15244295, -0.2693594 ,  0.1688611 ,  0.03477906,\n",
       "               -0.03824935]],\n",
       "\n",
       "             [[ 0.13852996, -0.08794742, -0.07571425, -0.1360138 ,\n",
       "                0.08430619],\n",
       "              [-0.03965919, -0.07780565, -0.05281829,  0.03653992,\n",
       "                0.07595081],\n",
       "              [ 0.03495182, -0.1539687 ,  0.00270114, -0.07241046,\n",
       "                0.06351683],\n",
       "              ...,\n",
       "              [-0.06065362, -0.11207789,  0.11117812,  0.01678167,\n",
       "               -0.01751101],\n",
       "              [-0.21287152, -0.18500601,  0.10674432,  0.02709376,\n",
       "               -0.04799121],\n",
       "              [ 0.05660795, -0.16355962,  0.03923267, -0.02083295,\n",
       "                0.09000362]]], dtype=float32)"
      ]
     },
     "execution_count": 72,
     "metadata": {},
     "output_type": "execute_result"
    }
   ],
   "source": [
    "out_val"
   ]
  },
  {
   "cell_type": "code",
   "execution_count": null,
   "metadata": {},
   "outputs": [],
   "source": []
  }
 ],
 "metadata": {
  "kernelspec": {
   "display_name": "Python 3 (ipykernel)",
   "language": "python",
   "name": "python3"
  },
  "language_info": {
   "codemirror_mode": {
    "name": "ipython",
    "version": 3
   },
   "file_extension": ".py",
   "mimetype": "text/x-python",
   "name": "python",
   "nbconvert_exporter": "python",
   "pygments_lexer": "ipython3",
   "version": "3.10.4"
  },
  "vscode": {
   "interpreter": {
    "hash": "b7c17e30e529363162b4f2bd4620f627c628f84c34e1cd85cef9b92e26a024c8"
   }
  }
 },
 "nbformat": 4,
 "nbformat_minor": 4
}
