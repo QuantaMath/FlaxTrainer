{
 "cells": [
  {
   "cell_type": "code",
   "execution_count": 3,
   "metadata": {},
   "outputs": [],
   "source": [
    "import jax\n",
    "import jax.ops\n",
    "import jax.numpy as np\n",
    "\n",
    "import numpy as onp\n",
    "\n",
    "import flax\n",
    "from flax import linen as nn\n",
    "import optax\n"
   ]
  },
  {
   "cell_type": "code",
   "execution_count": 5,
   "metadata": {},
   "outputs": [],
   "source": [
    "def get_text(fname):\n",
    "  with open(fname, 'r') as reader:\n",
    "    data = reader.read()\n",
    "\n",
    "  return data\n",
    "\n",
    "def id_bridge(iterable):\n",
    "  \"\"\" provides mapping to and from ids \"\"\"\n",
    "  return ({elem: id for id, elem in enumerate(iterable)}, \n",
    "          {id: elem for id, elem in enumerate(iterable)})"
   ]
  },
  {
   "cell_type": "code",
   "execution_count": 7,
   "metadata": {},
   "outputs": [],
   "source": [
    "# very simple example to test model can learn\n",
    "data = 'abcd...abcd...'\n",
    "\n",
    "def prep_data(data):\n",
    "  chars = list(set(data))\n",
    "  vocab_size = len(chars)\n",
    "  char_to_id, id_to_char = id_bridge(chars)\n",
    "  # data converted to ids\n",
    "  data_id = [char_to_id[char] for char in data]\n",
    "  return data_id, char_to_id, id_to_char "
   ]
  },
  {
   "cell_type": "code",
   "execution_count": 8,
   "metadata": {},
   "outputs": [
    {
     "data": {
      "text/plain": [
       "[0, 4, 1, 2, 3, 3, 3, 0, 4, 1]"
      ]
     },
     "execution_count": 8,
     "metadata": {},
     "output_type": "execute_result"
    }
   ],
   "source": [
    "data_id, char_to_id, id_to_char = prep_data(data)\n",
    "data_id[:10]"
   ]
  },
  {
   "cell_type": "code",
   "execution_count": 9,
   "metadata": {},
   "outputs": [],
   "source": [
    "\n",
    "def encode(char):\n",
    "  return nn.one_hot(char_to_id[char], len(char_to_id))\n",
    "\n",
    "def decode(predictions, id_to_char):\n",
    "  # for simplicity, pick the most likely character\n",
    "  # this can be replaced by sampling weighted\n",
    "  # by the probability of each character\n",
    "  return id_to_char[int(np.argmax(predictions))]"
   ]
  },
  {
   "cell_type": "code",
   "execution_count": 18,
   "metadata": {},
   "outputs": [],
   "source": [
    "class RNNCell(nn.Module):\n",
    "    @nn.compact\n",
    "    def __call__(self, state, x):\n",
    "        x = np.concatenate([state, x])\n",
    "        new_state = np.tanh(nn.Dense(state.shape[0])(x))\n",
    "        return new_state\n",
    "    \n",
    "class ChaRNN(nn.Module):\n",
    "    state_size:int\n",
    "    vocab_size: int\n",
    "\n",
    "    @nn.compact\n",
    "    def __call__(self, state, i):\n",
    "        x = nn.one_hot(i, self.vocab_size)\n",
    "        new_state = []\n",
    "\n",
    "        new_state_1 = RNNCell()(state[0], x)\n",
    "        new_state_2 = RNNCell()(state[1], new_state_1)\n",
    "        new_state_3 = RNNCell()(state[2], new_state_2)\n",
    "        predictions = nn.softmax(nn.Dense(self.vocab_size)(new_state_3))\n",
    "        return [new_state_1, new_state_2, new_state_3], predictions\n",
    "    \n",
    "    def init_state(self):\n",
    "        return [np.zeros(self.state_size)] * 3\n",
    "        "
   ]
  },
  {
   "cell_type": "code",
   "execution_count": 19,
   "metadata": {},
   "outputs": [],
   "source": [
    "def sample(model, params, bridge, initial='', max_length=100):\n",
    "    \"\"\"\n",
    "    Sample from the model by greedily selecting next characters\n",
    "    \"\"\"\n",
    "    char_to_id, id_to_char = bridge\n",
    "    state = model.init_state()\n",
    "    output = initial\n",
    "\n",
    "    for char in initial[:-1]:\n",
    "        state, _ = model.apply(params, state, char_to_id[char])\n",
    "    \n",
    "    next_char = initial[-1]\n",
    "    for i in range(max_length):\n",
    "        state, predictions = model.apply(params, state, char_to_id[next_char])\n",
    "        next_char = decode(predictions, id_to_char)\n",
    "        output += next_char\n",
    "\n",
    "        return output\n",
    "        "
   ]
  },
  {
   "cell_type": "code",
   "execution_count": 20,
   "metadata": {},
   "outputs": [],
   "source": [
    "def sample(model, params, bridge, initial='', max_length=100):\n",
    "  \"\"\"\n",
    "  Sample from the model by greedily selecting next characters\n",
    "\n",
    "  To do: make more efficient by JIT-ing\n",
    "  \"\"\"\n",
    "  char_to_id, id_to_char = bridge\n",
    "  state = model.init_state()\n",
    "  output = initial\n",
    "  for char in initial[:-1]:\n",
    "    state, _ = model.apply(params, state, char_to_id[char])\n",
    "\n",
    "  next_char = initial[-1]\n",
    "  for i in range(max_length):\n",
    "    state, predictions = model.apply(params, state, char_to_id[next_char])\n",
    "    next_char = decode(predictions, id_to_char)\n",
    "    output += next_char\n",
    "\n",
    "  return output"
   ]
  },
  {
   "cell_type": "code",
   "execution_count": 21,
   "metadata": {},
   "outputs": [
    {
     "name": "stdout",
     "output_type": "stream",
     "text": [
      "Model state size: 8, vocab size: 5\n"
     ]
    }
   ],
   "source": [
    "state_size = 8\n",
    "\n",
    "key, subkey = jax.random.split(key)\n",
    "model = ChaRNN(state_size, len(char_to_id))\n",
    "params = model.init(subkey, model.init_state(), 0)\n",
    "\n",
    "print(f\"Model state size: {model.state_size}, vocab size: {model.vocab_size}\")\n",
    "\n",
    "# run a single example through the model to test that it works\n",
    "new_state, predictions = model.apply(params, model.init_state(), 0)\n",
    "assert predictions.shape[0] == model.vocab_size"
   ]
  },
  {
   "cell_type": "code",
   "execution_count": 22,
   "metadata": {},
   "outputs": [
    {
     "data": {
      "text/plain": [
       "'abc..dddda.a.'"
      ]
     },
     "execution_count": 22,
     "metadata": {},
     "output_type": "execute_result"
    }
   ],
   "source": [
    "# calling sample on random model leads to random output\n",
    "sample(model, params, (char_to_id, id_to_char), 'abc', max_length=10)"
   ]
  },
  {
   "cell_type": "code",
   "execution_count": null,
   "metadata": {},
   "outputs": [],
   "source": [
    "def f(c, x, h):\n",
    "    model\n",
    "    \n",
    "\n",
    "jax.lax.scan()"
   ]
  },
  {
   "cell_type": "code",
   "execution_count": null,
   "metadata": {},
   "outputs": [],
   "source": []
  }
 ],
 "metadata": {
  "kernelspec": {
   "display_name": "Python 3.10.4 ('.labs')",
   "language": "python",
   "name": "python3"
  },
  "language_info": {
   "codemirror_mode": {
    "name": "ipython",
    "version": 3
   },
   "file_extension": ".py",
   "mimetype": "text/x-python",
   "name": "python",
   "nbconvert_exporter": "python",
   "pygments_lexer": "ipython3",
   "version": "3.10.4"
  },
  "orig_nbformat": 4,
  "vscode": {
   "interpreter": {
    "hash": "b7c17e30e529363162b4f2bd4620f627c628f84c34e1cd85cef9b92e26a024c8"
   }
  }
 },
 "nbformat": 4,
 "nbformat_minor": 2
}
