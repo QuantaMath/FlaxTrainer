{
 "cells": [
  {
   "cell_type": "code",
   "execution_count": 1,
   "metadata": {},
   "outputs": [],
   "source": [
    "import flax\n",
    "import flax.linen as nn\n",
    "\n",
    "import optax \n",
    "\n",
    "import jax\n",
    "import jax.numpy as jnp\n",
    "\n",
    "from model import SimpleRNN\n",
    "\n",
    "from FlaxTrainer.trainer import TrainerModule\n",
    "from FlaxTrainer.trainstates import TrainState\n",
    "\n",
    "import transformers\n",
    "from datasets import load_dataset_builder, load_dataset, get_dataset_split_names\n",
    "import re\n"
   ]
  },
  {
   "cell_type": "code",
   "execution_count": 2,
   "metadata": {},
   "outputs": [
    {
     "data": {
      "text/plain": [
       "['train', 'test', 'unsupervised']"
      ]
     },
     "execution_count": 2,
     "metadata": {},
     "output_type": "execute_result"
    }
   ],
   "source": [
    "get_dataset_split_names('imdb')"
   ]
  },
  {
   "cell_type": "code",
   "execution_count": 3,
   "metadata": {},
   "outputs": [
    {
     "name": "stderr",
     "output_type": "stream",
     "text": [
      "WARNING:datasets.builder:Reusing dataset imdb (/home/gholamhossin/local/labs/.hugging_face/imdb/plain_text/1.0.0/2fdd8b9bcadd6e7055e742a706876ba43f19faee861df134affd7a3f60fc38a1)\n",
      "WARNING:datasets.builder:Reusing dataset imdb (/home/gholamhossin/local/labs/.hugging_face/imdb/plain_text/1.0.0/2fdd8b9bcadd6e7055e742a706876ba43f19faee861df134affd7a3f60fc38a1)\n"
     ]
    }
   ],
   "source": [
    "from typing import List\n",
    "\n",
    "\n",
    "train_ds = load_dataset('imdb', split='train')\n",
    "test_ds = load_dataset('imdb', split='test')\n",
    "\n",
    "full_text = \" \".join(train_ds['text'])\n",
    "\n",
    "# full_text = re.sub(\"^[A-Za-z0-9_-]*$\", '', full_text)\n",
    "# full_text = full_text.replace('<br',\"\").replace('/>',\"\")\n",
    "# vocabs = set(full_text.split(' '))\n",
    "# vocabs = (list(vocabs))\n",
    "\n",
    "# def tokenizing(vocab: List[str]):\n",
    "#     id_to_text = {i:v for i, v in enumerate(vocab)}\n",
    "#     text_to_id = {v:i for i, v in enumerate(vocab)}\n",
    "\n",
    "#     return id_to_text, text_to_id\n",
    "\n",
    "# id_to_text, text_to_id = tokenizing(vocabs)"
   ]
  },
  {
   "cell_type": "code",
   "execution_count": 4,
   "metadata": {},
   "outputs": [],
   "source": [
    "import nltk\n",
    "\n",
    "seperator = lambda x: nltk.regexp_tokenize(x, \"\\w+|\\\\?\\!\")\n",
    "\n",
    "vocabs = list(set(seperator(full_text)))\n",
    "\n",
    "def tokenizing(vocab: List[str]):\n",
    "    id_to_text = {i:v for i, v in enumerate(vocab)}\n",
    "    text_to_id = {v:i for i, v in enumerate(vocab)}\n",
    "\n",
    "    return id_to_text, text_to_id\n",
    "\n",
    "id_to_text, text_to_id = tokenizing(vocabs)"
   ]
  },
  {
   "cell_type": "code",
   "execution_count": 5,
   "metadata": {},
   "outputs": [
    {
     "data": {
      "text/plain": [
       "93930"
      ]
     },
     "execution_count": 5,
     "metadata": {},
     "output_type": "execute_result"
    }
   ],
   "source": [
    "len(id_to_text)"
   ]
  },
  {
   "cell_type": "code",
   "execution_count": 6,
   "metadata": {},
   "outputs": [],
   "source": [
    "def scentence_tokenized(sent):\n",
    "    word_seperation = seperator(sent)\n",
    "    return [text_to_id[w] for w in word_seperation]"
   ]
  },
  {
   "cell_type": "code",
   "execution_count": 7,
   "metadata": {},
   "outputs": [],
   "source": [
    "from typing import Any\n",
    "\n",
    "\n",
    "class RnnClassifier(nn.Module):\n",
    "    rng: Any\n",
    "    embed_size: int\n",
    "    embed_dim: int\n",
    "    hidden_size: int\n",
    "\n",
    "    @nn.compact\n",
    "    def __call__(self, h, x, **kwargs):\n",
    "        x = nn.Embed(self.embed_size, self.embed_dim)(x)\n",
    "        o, h = SimpleRNN(20, 2)(x, h)\n",
    "\n",
    "        return o, h\n",
    "    @staticmethod\n",
    "    def initialize_carry(\n",
    "        rng, \n",
    "        batch_dims, \n",
    "        size,\n",
    "        init_fn=nn.initializers.zeros\n",
    "    ):\n",
    "        return SimpleRNN.initialize_carry(rng, batch_dims, size, init_fn)"
   ]
  },
  {
   "cell_type": "code",
   "execution_count": 8,
   "metadata": {},
   "outputs": [],
   "source": [
    "rnnC = RnnClassifier(\n",
    "    jax.random.PRNGKey(0),\n",
    "    embed_size=len(text_to_id),\n",
    "    embed_dim=20,\n",
    "    hidden_size=10\n",
    ")\n",
    "\n"
   ]
  },
  {
   "cell_type": "code",
   "execution_count": 9,
   "metadata": {},
   "outputs": [
    {
     "data": {
      "text/plain": [
       "DeviceArray([[0., 0., 0., 0., 0., 0., 0., 0., 0., 0., 0., 0., 0., 0., 0.,\n",
       "              0., 0., 0., 0., 0.]], dtype=float32)"
      ]
     },
     "execution_count": 9,
     "metadata": {},
     "output_type": "execute_result"
    }
   ],
   "source": [
    "h = RnnClassifier.initialize_carry(\n",
    "    jax.random.PRNGKey(0),\n",
    "    (1, ),\n",
    "    20\n",
    ")\n",
    "x = jax.random.randint(\n",
    "    jax.random.PRNGKey(0),\n",
    "    (1,),\n",
    "    minval=1, maxval=20\n",
    ")\n",
    "h"
   ]
  },
  {
   "cell_type": "code",
   "execution_count": 10,
   "metadata": {},
   "outputs": [],
   "source": [
    "variables = rnnC.init(jax.random.PRNGKey(0), h, x)"
   ]
  },
  {
   "cell_type": "code",
   "execution_count": 11,
   "metadata": {},
   "outputs": [
    {
     "data": {
      "text/plain": [
       "FrozenDict({\n",
       "    params: {\n",
       "        Embed_0: {\n",
       "            embedding: (93930, 20),\n",
       "        },\n",
       "        SimpleRNN_0: {\n",
       "            hidden_state: {\n",
       "                bias: (20,),\n",
       "                kernel: (40, 20),\n",
       "            },\n",
       "            output: {\n",
       "                bias: (2,),\n",
       "                kernel: (40, 2),\n",
       "            },\n",
       "        },\n",
       "    },\n",
       "})"
      ]
     },
     "execution_count": 11,
     "metadata": {},
     "output_type": "execute_result"
    }
   ],
   "source": [
    "jax.tree_map(lambda x: x.shape , variables)"
   ]
  },
  {
   "cell_type": "code",
   "execution_count": 12,
   "metadata": {},
   "outputs": [
    {
     "data": {
      "text/plain": [
       "(DeviceArray([[-0.02662284,  0.39234704]], dtype=float32),\n",
       " DeviceArray([[0.        , 0.        , 0.36096382, 0.10458659, 0.        ,\n",
       "               0.        , 0.        , 0.        , 0.        , 0.        ,\n",
       "               0.28245187, 0.18464863, 0.02286166, 0.04945395, 0.        ,\n",
       "               0.00896228, 0.21438086, 0.        , 0.04968444, 0.        ]],            dtype=float32))"
      ]
     },
     "execution_count": 12,
     "metadata": {},
     "output_type": "execute_result"
    }
   ],
   "source": [
    "rnnC.apply(variables=variables, x=x, h=h)"
   ]
  },
  {
   "cell_type": "code",
   "execution_count": 13,
   "metadata": {},
   "outputs": [
    {
     "data": {
      "text/plain": [
       "(297,)"
      ]
     },
     "execution_count": 13,
     "metadata": {},
     "output_type": "execute_result"
    }
   ],
   "source": [
    "example = jnp.array(scentence_tokenized(train_ds['text'][0]))\n",
    "example.shape"
   ]
  },
  {
   "cell_type": "code",
   "execution_count": 14,
   "metadata": {},
   "outputs": [
    {
     "data": {
      "text/plain": [
       "DeviceArray([[0., 0., 0., 0., 0., 0., 0., 0., 0., 0., 0., 0., 0., 0., 0.,\n",
       "              0., 0., 0., 0., 0.]], dtype=float32)"
      ]
     },
     "execution_count": 14,
     "metadata": {},
     "output_type": "execute_result"
    }
   ],
   "source": [
    "h"
   ]
  },
  {
   "cell_type": "code",
   "execution_count": 15,
   "metadata": {},
   "outputs": [
    {
     "name": "stdout",
     "output_type": "stream",
     "text": [
      "[[ 0.101531   -0.03670267]] [[0.         0.33540764 0.27758348 0.         0.27738208 0.\n",
      "  0.         0.03469883 0.59443516 0.11394904 0.         0.26410994\n",
      "  0.2550305  0.         0.         0.21341687 0.10182323 0.\n",
      "  0.14639407 0.        ]]\n",
      "13.508159160614014\n"
     ]
    }
   ],
   "source": [
    "from time import time\n",
    "\n",
    "\n",
    "t = time()\n",
    "for x in example.reshape(-1, 1):\n",
    "     o, h = rnnC.apply(variables, h, x)\n",
    "print(o, h)\n",
    "\n",
    "print(time() - t)"
   ]
  },
  {
   "cell_type": "code",
   "execution_count": 16,
   "metadata": {},
   "outputs": [
    {
     "ename": "SyntaxError",
     "evalue": "invalid syntax (2885781288.py, line 34)",
     "output_type": "error",
     "traceback": [
      "\u001b[0;36m  Input \u001b[0;32mIn [16]\u001b[0;36m\u001b[0m\n\u001b[0;31m    for word in\u001b[0m\n\u001b[0m                ^\u001b[0m\n\u001b[0;31mSyntaxError\u001b[0m\u001b[0;31m:\u001b[0m invalid syntax\n"
     ]
    }
   ],
   "source": [
    "class RnnTrainState(TrainState):\n",
    "    hidden_fn: Any=None\n",
    "\n",
    "\n",
    "class RnnTrainer(TrainerModule):\n",
    "    def __init__(self, **kwargs):\n",
    "        super().__init__(**kwargs)\n",
    "\n",
    "    def init_model(\n",
    "        self, model: nn.Module, \n",
    "        exmp_input: Any, \n",
    "        tabulated: bool = True):\n",
    "        state =  super().init_model(model, exmp_input, tabulated)\n",
    "        st_dict = state.__dict__\n",
    "        \n",
    "        state = RnnTrainState(\n",
    "            **{\n",
    "                **st_dict, \"hidden_fn\":model.init_state()\n",
    "            }\n",
    "        )\n",
    "        return state\n",
    "    \n",
    "        \n",
    "    def create_functions(self):\n",
    "        def cross_entropy_loss(params, apply_fn, batch):\n",
    "            x, y = batch\n",
    "            y = jax.nn.one_hot(y, num_classes=10)\n",
    "            logit = apply_fn({'params':params}, x)\n",
    "            loss = optax.softmax_cross_entropy(logits=logit , labels=y).mean()\n",
    "            return loss\n",
    "    \n",
    "        def train_step(state, batch):\n",
    "            loss_fn = lambda params: cross_entropy_loss(params, state.apply_fn, batch)\n",
    "            for word in \n",
    "            loss, grads = jax.value_and_grad(loss_fn)(state.params)\n",
    "            state = state.apply_gradients(grads=grads)\n",
    "            metrics = {'loss': loss}\n",
    "            return state, metrics\n",
    "        \n",
    "        def eval_step(state, batch):\n",
    "            loss = cross_entropy_loss(state.params, state.apply_fn, batch)\n",
    "            return {'loss': loss}\n",
    "\n",
    "        return train_step, eval_step\n"
   ]
  },
  {
   "cell_type": "code",
   "execution_count": 16,
   "metadata": {},
   "outputs": [],
   "source": [
    "\n",
    "def fn(i, ho):\n",
    "    x = example.reshape(-1, 1)[i]\n",
    "    h = ho[0]\n",
    "    o, h = rnnC.apply(variables=variables, x=x, h=h)\n",
    "    return [h, o]\n",
    "    "
   ]
  },
  {
   "cell_type": "code",
   "execution_count": 17,
   "metadata": {},
   "outputs": [
    {
     "data": {
      "text/plain": [
       "[DeviceArray([[0.00241531, 0.51561534, 0.3784473 , 0.        , 0.24155109,\n",
       "               0.        , 0.02114906, 0.0136361 , 0.21647874, 0.00569096,\n",
       "               0.        , 0.0266905 , 0.1747001 , 0.08343177, 0.19916058,\n",
       "               0.20462283, 0.        , 0.16992225, 0.        , 0.        ]],            dtype=float32),\n",
       " DeviceArray([[-0.13409576,  0.09588944]], dtype=float32)]"
      ]
     },
     "execution_count": 17,
     "metadata": {},
     "output_type": "execute_result"
    }
   ],
   "source": [
    "h = RnnClassifier.initialize_carry(\n",
    "    jax.random.PRNGKey(0),\n",
    "    (1, ),\n",
    "    20\n",
    ")\n",
    "\n",
    "ho = [h, jnp.zeros((1,2))]\n",
    "fn(1, ho)"
   ]
  },
  {
   "cell_type": "code",
   "execution_count": 18,
   "metadata": {},
   "outputs": [
    {
     "data": {
      "text/plain": [
       "[DeviceArray([[0.        , 0.33540764, 0.27758348, 0.        , 0.27738208,\n",
       "               0.        , 0.        , 0.03469883, 0.59443516, 0.11394904,\n",
       "               0.        , 0.26410994, 0.2550305 , 0.        , 0.        ,\n",
       "               0.21341687, 0.10182323, 0.        , 0.14639407, 0.        ]],            dtype=float32),\n",
       " DeviceArray([[ 0.101531  , -0.03670267]], dtype=float32)]"
      ]
     },
     "execution_count": 18,
     "metadata": {},
     "output_type": "execute_result"
    }
   ],
   "source": [
    "jax.lax.fori_loop(0, len(example), fn,ho)"
   ]
  },
  {
   "cell_type": "code",
   "execution_count": 19,
   "metadata": {},
   "outputs": [],
   "source": [
    "l = jax.lax.map(lambda x: jnp.concatenate([h, x.reshape(1,1)], axis=-1), example)"
   ]
  },
  {
   "cell_type": "code",
   "execution_count": 20,
   "metadata": {},
   "outputs": [],
   "source": [
    "def fn(h, x):\n",
    "    h = h[...,:-1]\n",
    "    x = x[0,...,-1].astype(jnp.int32).reshape(-1,)\n",
    "    o, h = rnnC.apply(variables=variables, x=x, h=h)\n",
    "    h_r = jnp.concatenate([h, jnp.zeros((1,1))], axis=-1)\n",
    "    return h_r, (h_r, o)"
   ]
  },
  {
   "cell_type": "code",
   "execution_count": 21,
   "metadata": {},
   "outputs": [
    {
     "data": {
      "text/plain": [
       "(DeviceArray([[0.00241531, 0.51561534, 0.3784473 , 0.        , 0.24155109,\n",
       "               0.        , 0.02114906, 0.0136361 , 0.21647874, 0.00569096,\n",
       "               0.        , 0.0266905 , 0.1747001 , 0.08343177, 0.19916058,\n",
       "               0.20462283, 0.        , 0.16992225, 0.        , 0.        ,\n",
       "               0.        ]], dtype=float32),\n",
       " (DeviceArray([[0.00241531, 0.51561534, 0.3784473 , 0.        , 0.24155109,\n",
       "                0.        , 0.02114906, 0.0136361 , 0.21647874, 0.00569096,\n",
       "                0.        , 0.0266905 , 0.1747001 , 0.08343177, 0.19916058,\n",
       "                0.20462283, 0.        , 0.16992225, 0.        , 0.        ,\n",
       "                0.        ]], dtype=float32),\n",
       "  DeviceArray([[-0.13409576,  0.09588944]], dtype=float32)))"
      ]
     },
     "execution_count": 21,
     "metadata": {},
     "output_type": "execute_result"
    }
   ],
   "source": [
    "fn(l[0], l[1])"
   ]
  },
  {
   "cell_type": "code",
   "execution_count": 23,
   "metadata": {},
   "outputs": [],
   "source": [
    "_, out = jax.lax.scan(fn, jnp.concatenate([h, jnp.zeros((1,1))], axis=1), l)\n",
    "    "
   ]
  },
  {
   "cell_type": "code",
   "execution_count": 307,
   "metadata": {},
   "outputs": [
    {
     "data": {
      "text/plain": [
       "297"
      ]
     },
     "execution_count": 307,
     "metadata": {},
     "output_type": "execute_result"
    }
   ],
   "source": [
    "len(out[1])"
   ]
  },
  {
   "cell_type": "code",
   "execution_count": 25,
   "metadata": {},
   "outputs": [
    {
     "data": {
      "text/plain": [
       "{'jax_tracer_error_num_traceback_frames': 5,\n",
       " 'jax_pprint_use_color': True,\n",
       " 'jax_host_callback_inline': False,\n",
       " 'jax_host_callback_max_queue_byte_size': 256000000,\n",
       " 'jax_host_callback_outfeed': False,\n",
       " 'jax_host_callback_ad_transforms': False,\n",
       " 'jax2tf_associative_scan_reductions': False,\n",
       " 'jax2tf_default_experimental_native_lowering': False,\n",
       " 'jax_platforms': None,\n",
       " 'jax_enable_checks': False,\n",
       " 'jax_check_tracer_leaks': False,\n",
       " 'jax_debug_nans': False,\n",
       " 'jax_debug_infs': False,\n",
       " 'jax_log_compiles': False,\n",
       " 'jax_parallel_functions_output_gda': False,\n",
       " 'jax_array': False,\n",
       " 'jax_distributed_debug': False,\n",
       " 'jax_enable_custom_prng': False,\n",
       " 'jax_default_prng_impl': 'threefry2x32',\n",
       " 'jax_enable_custom_vjp_by_custom_transpose': False,\n",
       " 'jax_hlo_source_file_canonicalization_regex': None,\n",
       " 'jax_default_dtype_bits': '64',\n",
       " 'jax_numpy_dtype_promotion': 'standard',\n",
       " 'jax_enable_x64': False,\n",
       " 'jax_default_device': None,\n",
       " 'jax_disable_jit': False,\n",
       " 'jax_numpy_rank_promotion': 'allow',\n",
       " 'jax_default_matmul_precision': None,\n",
       " 'jax_traceback_filtering': 'auto',\n",
       " 'jax_bcoo_cusparse_lowering': True,\n",
       " 'jax_dynamic_shapes': False,\n",
       " 'jax_experimental_name_stack': True,\n",
       " 'jax_unique_mhlo_module_names': True,\n",
       " 'jax_remat_opt_barrier': True,\n",
       " 'jax_coordination_service': False,\n",
       " 'jax_experimental_subjaxpr_lowering_cache': False,\n",
       " 'jax_eager_pmap': True,\n",
       " 'jax_transfer_guard_host_to_device': None,\n",
       " 'jax_transfer_guard_device_to_device': None,\n",
       " 'jax_transfer_guard_device_to_host': None,\n",
       " 'jax_transfer_guard': None,\n",
       " 'jax_xla_backend': '',\n",
       " 'jax_backend_target': '',\n",
       " 'jax_platform_name': '',\n",
       " 'jax_disable_most_optimizations': False,\n",
       " 'jax_xla_profile_version': 0,\n",
       " 'jax_cuda_visible_devices': 'all',\n",
       " 'jax_rocm_visible_devices': 'all',\n",
       " 'jax_dump_ir_to': '',\n",
       " 'experimental_cpp_jit': True,\n",
       " 'experimental_cpp_pmap': True,\n",
       " 'experimental_xmap_spmd_lowering': False,\n",
       " 'experimental_xmap_spmd_lowering_manual': False,\n",
       " 'experimental_xmap_ensure_fixed_sharding': False,\n",
       " 'jax_test_dut': '',\n",
       " 'num_generated_cases': 10,\n",
       " 'max_cases_sampling_retries': 100,\n",
       " 'jax_skip_slow_tests': False,\n",
       " 'test_targets': '',\n",
       " 'exclude_test_targets': ''}"
      ]
     },
     "execution_count": 25,
     "metadata": {},
     "output_type": "execute_result"
    }
   ],
   "source": [
    "jax.config.values"
   ]
  },
  {
   "cell_type": "code",
   "execution_count": null,
   "metadata": {},
   "outputs": [],
   "source": []
  }
 ],
 "metadata": {
  "kernelspec": {
   "display_name": "Python 3 (ipykernel)",
   "language": "python",
   "name": "python3"
  },
  "language_info": {
   "codemirror_mode": {
    "name": "ipython",
    "version": 3
   },
   "file_extension": ".py",
   "mimetype": "text/x-python",
   "name": "python",
   "nbconvert_exporter": "python",
   "pygments_lexer": "ipython3",
   "version": "3.10.4"
  },
  "vscode": {
   "interpreter": {
    "hash": "b7c17e30e529363162b4f2bd4620f627c628f84c34e1cd85cef9b92e26a024c8"
   }
  }
 },
 "nbformat": 4,
 "nbformat_minor": 4
}
